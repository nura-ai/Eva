{
 "cells": [
  {
   "cell_type": "code",
   "execution_count": null,
   "id": "bbb5acd4",
   "metadata": {},
   "outputs": [
    {
     "name": "stdout",
     "output_type": "stream",
     "text": [
      "================================\u001b[1m Human Message \u001b[0m=================================\n",
      "\n",
      "wassup\n",
      "==================================\u001b[1m Ai Message \u001b[0m==================================\n",
      "\n",
      "Hey there! What's poppin'? How are you doing today?\n"
     ]
    }
   ],
   "source": [
    "from typing import Annotated, Sequence, TypedDict\n",
    "from dotenv import load_dotenv\n",
    "from langchain_core.messages import BaseMessage, ToolMessage, SystemMessage\n",
    "from langchain_openai import ChatOpenAI\n",
    "from langchain_core.tools import tool\n",
    "from langgraph.graph.message import add_messages\n",
    "from langgraph.graph import StateGraph, START, END\n",
    "from langgraph.prebuilt import ToolNode\n",
    "\n",
    "load_dotenv()\n",
    "\n",
    "class AgentState(TypedDict):\n",
    "    messages: Annotated[Sequence[BaseMessage], add_messages] # reducer function\n",
    "\n",
    "@tool\n",
    "def add(a: int, b: int):\n",
    "    \"\"\"This is an addition function that adds two numbers together\"\"\"\n",
    "    return a + b\n",
    "\n",
    "tools = [add]\n",
    "model = ChatOpenAI(model = 'ft:gpt-4.1-nano-2025-04-14:yvon-kim:kaggle-therapy-conversations:CANdhqZC').bind_tools(tools)\n",
    "\n",
    "def model_call(state: AgentState) -> AgentState:\n",
    "    system_prompt = SystemMessage(content = \"\"\"\n",
    "    You are acting like a CBAT or EMDR therapist. You will be maximally empathetic and supportive. Your goal is to help the user feel better and guide them through difficult times. \n",
    "    You will act as a therapist/counselor and provide guidance and support to the user.\n",
    "    \"\"\")\n",
    "    response = model.invoke([system_prompt] + state['messages'])\n",
    "    return {\"messages\": [response]}\n",
    "\n",
    "\n",
    "def loop_tool(state: AgentState) -> AgentState:\n",
    "    messages = state['messages']\n",
    "    last_message = messages[-1]\n",
    "    if not last_message.tool_calls:\n",
    "        return \"end\"\n",
    "    else:\n",
    "        return \"continue\"\n",
    "    \n",
    "graph = StateGraph(AgentState)\n",
    "graph.add_node(\"our_agent\", model_call)\n",
    "\n",
    "tool_node = ToolNode(tools=tools)\n",
    "graph.add_node(\"tools\", tool_node)\n",
    "graph.set_entry_point(\"our_agent\")\n",
    "graph.add_conditional_edges(\n",
    "    \"our_agent\",\n",
    "    loop_tool,\n",
    "    {\n",
    "        \"end\": END,\n",
    "        \"continue\": \"tools\"\n",
    "    }\n",
    ")\n",
    "\n",
    "graph.add_edge(\"tools\", \"our_agent\")\n",
    "app = graph.compile()\n",
    "\n",
    "def print_stream(stream):\n",
    "    for s in stream:\n",
    "        message = s['messages'][-1]\n",
    "        if isinstance(message, tuple):\n",
    "            print(message)\n",
    "        else:\n",
    "            message.pretty_print()\n",
    "    \n",
    "inputs = {\"messages\": [(\"user\", \"wassup\")]}\n",
    "print_stream(app.stream(inputs, stream_mode=\"values\"))"
   ]
  }
 ],
 "metadata": {
  "kernelspec": {
   "display_name": ".venv",
   "language": "python",
   "name": "python3"
  },
  "language_info": {
   "codemirror_mode": {
    "name": "ipython",
    "version": 3
   },
   "file_extension": ".py",
   "mimetype": "text/x-python",
   "name": "python",
   "nbconvert_exporter": "python",
   "pygments_lexer": "ipython3",
   "version": "3.13.3"
  }
 },
 "nbformat": 4,
 "nbformat_minor": 5
}
